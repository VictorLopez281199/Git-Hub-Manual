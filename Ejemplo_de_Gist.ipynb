{
  "nbformat": 4,
  "nbformat_minor": 0,
  "metadata": {
    "colab": {
      "provenance": []
    },
    "kernelspec": {
      "name": "python3",
      "display_name": "Python 3"
    },
    "language_info": {
      "name": "python"
    }
  },
  "cells": [
    {
      "cell_type": "code",
      "execution_count": 1,
      "metadata": {
        "colab": {
          "base_uri": "https://localhost:8080/",
          "height": 35
        },
        "id": "FAScXsM1fd7z",
        "outputId": "aa6f991d-5052-4b61-d42f-5738aaa8e647"
      },
      "outputs": [
        {
          "output_type": "execute_result",
          "data": {
            "text/plain": [
              "'Hola, GitHub '"
            ],
            "application/vnd.google.colaboratory.intrinsic+json": {
              "type": "string"
            }
          },
          "metadata": {},
          "execution_count": 1
        }
      ],
      "source": [
        "# Ejemplo de Gist en Colab\n",
        "def saludar(nombre):\n",
        "    return f\"Hola, {nombre} \"\n",
        "\n",
        "saludar(\"GitHub\")\n"
      ]
    }
  ]
}