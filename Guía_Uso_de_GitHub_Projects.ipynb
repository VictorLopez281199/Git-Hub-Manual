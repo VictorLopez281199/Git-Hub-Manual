{
  "nbformat": 4,
  "nbformat_minor": 0,
  "metadata": {
    "colab": {
      "provenance": []
    },
    "kernelspec": {
      "name": "python3",
      "display_name": "Python 3"
    },
    "language_info": {
      "name": "python"
    }
  },
  "cells": [
    {
      "cell_type": "code",
      "execution_count": null,
      "metadata": {
        "id": "YYingA6lfsmi"
      },
      "outputs": [],
      "source": [
        "# @markdown # 📋 Guía: Uso de GitHub Projects\n",
        "# @markdown ---\n",
        "# @markdown GitHub Projects es una herramienta integrada para planificar, organizar y visualizar el progreso de tareas dentro de un repositorio. Utiliza tableros tipo **Kanban**, ideales para flujos de trabajo ágiles.\n",
        "\n",
        "# @markdown ## 🛠️ ¿Cómo crear un proyecto?\n",
        "# @markdown 1. Ve a la pestaña **Projects** del repositorio.\n",
        "# @markdown 2. Haz clic en **\"New project\"**.\n",
        "# @markdown 3. Elige un nombre para el proyecto.\n",
        "# @markdown 4. Selecciona una plantilla: *Table*, *Board (Kanban)* o *Blank*.\n",
        "# @markdown 5. Puedes hacerlo visible de forma pública o privada.\n",
        "# @markdown 6. ¡Listo! Ahora puedes añadir tareas manualmente o vincular Issues existentes.\n",
        "\n",
        "print(\"✅ Sigue las instrucciones desde la pestaña Projects de GitHub.\")\n"
      ]
    },
    {
      "cell_type": "code",
      "source": [
        "# @markdown ## 🧱 Ejemplo de columnas comunes en un tablero Kanban:\n",
        "\n",
        "# @markdown - 📋 To Do (Por hacer)\n",
        "# @markdown - 🚧 In Progress (En proceso)\n",
        "# @markdown - ✅ Done (Hecho)\n",
        "\n",
        "tablero = {\n",
        "    \"To Do\": [\"Diseñar interfaz\", \"Crear README\"],\n",
        "    \"In Progress\": [\"Implementar login\"],\n",
        "    \"Done\": [\"Crear repositorio\"]\n",
        "}\n",
        "\n",
        "# Mostrar el tablero\n",
        "for columna, tareas in tablero.items():\n",
        "    print(f\"\\n📂 {columna}:\")\n",
        "    for tarea in tareas:\n",
        "        print(f\" - {tarea}\")\n"
      ],
      "metadata": {
        "colab": {
          "base_uri": "https://localhost:8080/"
        },
        "id": "yZl410X6f32z",
        "outputId": "5b635140-90e9-454f-b0bb-e8d3b287e6dd"
      },
      "execution_count": null,
      "outputs": [
        {
          "output_type": "stream",
          "name": "stdout",
          "text": [
            "\n",
            "📂 To Do:\n",
            " - Diseñar interfaz\n",
            " - Crear README\n",
            "\n",
            "📂 In Progress:\n",
            " - Implementar login\n",
            "\n",
            "📂 Done:\n",
            " - Crear repositorio\n"
          ]
        }
      ]
    },
    {
      "cell_type": "code",
      "source": [
        "# @markdown ## 🔗 Cómo vincular Issues o Pull Requests a un proyecto\n",
        "\n",
        "# @markdown Puedes vincular tareas de GitHub Projects con issues o pull requests para que se actualicen automáticamente.\n",
        "\n",
        "# @markdown **Pasos:**\n",
        "# @markdown 1. Crea un issue o PR.\n",
        "# @markdown 2. En la barra lateral, busca la opción **Projects**.\n",
        "# @markdown 3. Selecciona el proyecto y la columna donde debe aparecer.\n",
        "# @markdown 4. Al mover el issue o cambiar su estado, el tablero se actualiza automáticamente.\n",
        "\n",
        "print(\"✅ Vinculación de Issues/PRs completada desde la interfaz de GitHub.\")\n"
      ],
      "metadata": {
        "id": "45xuFqREf8QJ"
      },
      "execution_count": null,
      "outputs": []
    },
    {
      "cell_type": "code",
      "source": [
        "# @markdown ## ⚙️ Automatización (Opcional)\n",
        "\n",
        "# @markdown Puedes automatizar tareas dentro del proyecto:\n",
        "# @markdown - Mover un Issue a 'In Progress' cuando se abre un Pull Request.\n",
        "# @markdown - Mover a 'Done' cuando se cierra un Issue.\n",
        "\n",
        "# @markdown **Para usarlo:**\n",
        "# @markdown - En tu proyecto, haz clic en **Automations**.\n",
        "# @markdown - Añade reglas como:\n",
        "# @markdown     - `\"When issue is closed → Move to Done\"`\n",
        "# @markdown     - `\"When pull request is opened → Move to In Progress\"`\n",
        "\n",
        "print(\"⚙️ Automatizaciones configuradas dentro de GitHub Projects.\")\n"
      ],
      "metadata": {
        "id": "II1yAE1Lf_VJ"
      },
      "execution_count": null,
      "outputs": []
    }
  ]
}